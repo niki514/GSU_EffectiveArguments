{
 "cells": [
  {
   "cell_type": "code",
   "execution_count": 1,
   "metadata": {},
   "outputs": [],
   "source": [
    "#Import necessary packages\n",
    "import pandas as pd\n",
    "import numpy as np\n",
    "import re\n",
    "import gc\n",
    "from sklearn.feature_extraction.text import CountVectorizer"
   ]
  },
  {
   "cell_type": "code",
   "execution_count": 2,
   "metadata": {},
   "outputs": [],
   "source": [
    "train = pd.read_csv('train.csv')"
   ]
  },
  {
   "cell_type": "code",
   "execution_count": 3,
   "metadata": {},
   "outputs": [],
   "source": [
    "#Clean the text of punctuation, line breaks, capitalization, etc\n",
    "def clean_text(contents):\n",
    "    contents = re.sub(\"'\", \"\", contents)\n",
    "    cleaned_contents = re.sub('[^A-Za-z]+', ' ', contents)\n",
    "    return re.sub('/\\r?\\n|\\r/g', ' ', cleaned_contents).lower()\n",
    "\n",
    "train.discourse_text = train.discourse_text.transform(clean_text)"
   ]
  },
  {
   "cell_type": "code",
   "execution_count": 4,
   "metadata": {
    "scrolled": true
   },
   "outputs": [],
   "source": [
    "#Find the count of each word and create a document-term matrix\n",
    "cv = CountVectorizer(stop_words = 'english')\n",
    "text_cv = cv.fit_transform(train.discourse_text)\n",
    "dtm = pd.DataFrame(text_cv.toarray(), columns = cv.get_feature_names())"
   ]
  },
  {
   "cell_type": "code",
   "execution_count": 5,
   "metadata": {
    "scrolled": true
   },
   "outputs": [],
   "source": [
    "#Drop words that are  present in less than 1% of the text samples\n",
    "word_counts = dtm.sum().where(dtm.sum() > (0.01*len(dtm.index)))\n",
    "word_counts.dropna(inplace = True)\n",
    "dtm = dtm.loc[:, word_counts.index.array]"
   ]
  },
  {
   "cell_type": "code",
   "execution_count": 6,
   "metadata": {},
   "outputs": [],
   "source": [
    "#Index samples by discourse ID to ensure compatability with original training dataset\n",
    "dtm['discourse_id'] = train['discourse_id']\n",
    "dtm.to_csv('dtm.csv', header = True, index = False)"
   ]
  },
  {
   "cell_type": "code",
   "execution_count": 7,
   "metadata": {},
   "outputs": [
    {
     "data": {
      "text/plain": [
       "75"
      ]
     },
     "execution_count": 7,
     "metadata": {},
     "output_type": "execute_result"
    }
   ],
   "source": [
    "gc.collect()"
   ]
  }
 ],
 "metadata": {
  "kernelspec": {
   "display_name": "Python 3",
   "language": "python",
   "name": "python3"
  },
  "language_info": {
   "codemirror_mode": {
    "name": "ipython",
    "version": 3
   },
   "file_extension": ".py",
   "mimetype": "text/x-python",
   "name": "python",
   "nbconvert_exporter": "python",
   "pygments_lexer": "ipython3",
   "version": "3.8.5"
  }
 },
 "nbformat": 4,
 "nbformat_minor": 4
}
